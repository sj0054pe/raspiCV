{
  "nbformat": 4,
  "nbformat_minor": 0,
  "metadata": {
    "colab": {
      "name": "GluonCV_pose_from_video.ipynb",
      "provenance": [],
      "collapsed_sections": []
    },
    "kernelspec": {
      "name": "python3",
      "display_name": "Python 3"
    },
    "accelerator": "GPU",
    "widgets": {
      "application/vnd.jupyter.widget-state+json": {
        "51e58d804d1f4e5291c4001b069d02b9": {
          "model_module": "@jupyter-widgets/controls",
          "model_name": "HBoxModel",
          "state": {
            "_view_name": "HBoxView",
            "_dom_classes": [],
            "_model_name": "HBoxModel",
            "_view_module": "@jupyter-widgets/controls",
            "_model_module_version": "1.5.0",
            "_view_count": null,
            "_view_module_version": "1.5.0",
            "box_style": "",
            "layout": "IPY_MODEL_b6706f695cdf4e9bb1dd52065a1a1c20",
            "_model_module": "@jupyter-widgets/controls",
            "children": [
              "IPY_MODEL_4d20a20076ab49b78e13fbb5d7c4c626",
              "IPY_MODEL_c25afb76b61d42e690d33bc64831c4d8"
            ]
          }
        },
        "b6706f695cdf4e9bb1dd52065a1a1c20": {
          "model_module": "@jupyter-widgets/base",
          "model_name": "LayoutModel",
          "state": {
            "_view_name": "LayoutView",
            "grid_template_rows": null,
            "right": null,
            "justify_content": null,
            "_view_module": "@jupyter-widgets/base",
            "overflow": null,
            "_model_module_version": "1.2.0",
            "_view_count": null,
            "flex_flow": null,
            "width": null,
            "min_width": null,
            "border": null,
            "align_items": null,
            "bottom": null,
            "_model_module": "@jupyter-widgets/base",
            "top": null,
            "grid_column": null,
            "overflow_y": null,
            "overflow_x": null,
            "grid_auto_flow": null,
            "grid_area": null,
            "grid_template_columns": null,
            "flex": null,
            "_model_name": "LayoutModel",
            "justify_items": null,
            "grid_row": null,
            "max_height": null,
            "align_content": null,
            "visibility": null,
            "align_self": null,
            "height": null,
            "min_height": null,
            "padding": null,
            "grid_auto_rows": null,
            "grid_gap": null,
            "max_width": null,
            "order": null,
            "_view_module_version": "1.2.0",
            "grid_template_areas": null,
            "object_position": null,
            "object_fit": null,
            "grid_auto_columns": null,
            "margin": null,
            "display": null,
            "left": null
          }
        },
        "4d20a20076ab49b78e13fbb5d7c4c626": {
          "model_module": "@jupyter-widgets/controls",
          "model_name": "FloatProgressModel",
          "state": {
            "_view_name": "ProgressView",
            "style": "IPY_MODEL_caae6f273c794efd86ee956b22e7f059",
            "_dom_classes": [],
            "description": "100%",
            "_model_name": "FloatProgressModel",
            "bar_style": "success",
            "max": 1323,
            "_view_module": "@jupyter-widgets/controls",
            "_model_module_version": "1.5.0",
            "value": 1323,
            "_view_count": null,
            "_view_module_version": "1.5.0",
            "orientation": "horizontal",
            "min": 0,
            "description_tooltip": null,
            "_model_module": "@jupyter-widgets/controls",
            "layout": "IPY_MODEL_e3818bd1c00044ae84e4c315c0893ab0"
          }
        },
        "c25afb76b61d42e690d33bc64831c4d8": {
          "model_module": "@jupyter-widgets/controls",
          "model_name": "HTMLModel",
          "state": {
            "_view_name": "HTMLView",
            "style": "IPY_MODEL_65a6961b74994ec1a4694c65d6296ea5",
            "_dom_classes": [],
            "description": "",
            "_model_name": "HTMLModel",
            "placeholder": "​",
            "_view_module": "@jupyter-widgets/controls",
            "_model_module_version": "1.5.0",
            "value": " 1323/1323 [03:10&lt;00:00,  6.94it/s]",
            "_view_count": null,
            "_view_module_version": "1.5.0",
            "description_tooltip": null,
            "_model_module": "@jupyter-widgets/controls",
            "layout": "IPY_MODEL_f28be2f68db34dd88c669fc6d1910d7b"
          }
        },
        "caae6f273c794efd86ee956b22e7f059": {
          "model_module": "@jupyter-widgets/controls",
          "model_name": "ProgressStyleModel",
          "state": {
            "_view_name": "StyleView",
            "_model_name": "ProgressStyleModel",
            "description_width": "initial",
            "_view_module": "@jupyter-widgets/base",
            "_model_module_version": "1.5.0",
            "_view_count": null,
            "_view_module_version": "1.2.0",
            "bar_color": null,
            "_model_module": "@jupyter-widgets/controls"
          }
        },
        "e3818bd1c00044ae84e4c315c0893ab0": {
          "model_module": "@jupyter-widgets/base",
          "model_name": "LayoutModel",
          "state": {
            "_view_name": "LayoutView",
            "grid_template_rows": null,
            "right": null,
            "justify_content": null,
            "_view_module": "@jupyter-widgets/base",
            "overflow": null,
            "_model_module_version": "1.2.0",
            "_view_count": null,
            "flex_flow": null,
            "width": null,
            "min_width": null,
            "border": null,
            "align_items": null,
            "bottom": null,
            "_model_module": "@jupyter-widgets/base",
            "top": null,
            "grid_column": null,
            "overflow_y": null,
            "overflow_x": null,
            "grid_auto_flow": null,
            "grid_area": null,
            "grid_template_columns": null,
            "flex": null,
            "_model_name": "LayoutModel",
            "justify_items": null,
            "grid_row": null,
            "max_height": null,
            "align_content": null,
            "visibility": null,
            "align_self": null,
            "height": null,
            "min_height": null,
            "padding": null,
            "grid_auto_rows": null,
            "grid_gap": null,
            "max_width": null,
            "order": null,
            "_view_module_version": "1.2.0",
            "grid_template_areas": null,
            "object_position": null,
            "object_fit": null,
            "grid_auto_columns": null,
            "margin": null,
            "display": null,
            "left": null
          }
        },
        "65a6961b74994ec1a4694c65d6296ea5": {
          "model_module": "@jupyter-widgets/controls",
          "model_name": "DescriptionStyleModel",
          "state": {
            "_view_name": "StyleView",
            "_model_name": "DescriptionStyleModel",
            "description_width": "",
            "_view_module": "@jupyter-widgets/base",
            "_model_module_version": "1.5.0",
            "_view_count": null,
            "_view_module_version": "1.2.0",
            "_model_module": "@jupyter-widgets/controls"
          }
        },
        "f28be2f68db34dd88c669fc6d1910d7b": {
          "model_module": "@jupyter-widgets/base",
          "model_name": "LayoutModel",
          "state": {
            "_view_name": "LayoutView",
            "grid_template_rows": null,
            "right": null,
            "justify_content": null,
            "_view_module": "@jupyter-widgets/base",
            "overflow": null,
            "_model_module_version": "1.2.0",
            "_view_count": null,
            "flex_flow": null,
            "width": null,
            "min_width": null,
            "border": null,
            "align_items": null,
            "bottom": null,
            "_model_module": "@jupyter-widgets/base",
            "top": null,
            "grid_column": null,
            "overflow_y": null,
            "overflow_x": null,
            "grid_auto_flow": null,
            "grid_area": null,
            "grid_template_columns": null,
            "flex": null,
            "_model_name": "LayoutModel",
            "justify_items": null,
            "grid_row": null,
            "max_height": null,
            "align_content": null,
            "visibility": null,
            "align_self": null,
            "height": null,
            "min_height": null,
            "padding": null,
            "grid_auto_rows": null,
            "grid_gap": null,
            "max_width": null,
            "order": null,
            "_view_module_version": "1.2.0",
            "grid_template_areas": null,
            "object_position": null,
            "object_fit": null,
            "grid_auto_columns": null,
            "margin": null,
            "display": null,
            "left": null
          }
        },
        "6a0b550c00f948ee8992c49f7c62fcb5": {
          "model_module": "@jupyter-widgets/controls",
          "model_name": "HBoxModel",
          "state": {
            "_view_name": "HBoxView",
            "_dom_classes": [],
            "_model_name": "HBoxModel",
            "_view_module": "@jupyter-widgets/controls",
            "_model_module_version": "1.5.0",
            "_view_count": null,
            "_view_module_version": "1.5.0",
            "box_style": "",
            "layout": "IPY_MODEL_f6bbe5b14f824c17b16c44f4e42bca5f",
            "_model_module": "@jupyter-widgets/controls",
            "children": [
              "IPY_MODEL_2f04a53a39254632929403a835718830",
              "IPY_MODEL_05f1b09878654bb288b18c8f3781f3e6"
            ]
          }
        },
        "f6bbe5b14f824c17b16c44f4e42bca5f": {
          "model_module": "@jupyter-widgets/base",
          "model_name": "LayoutModel",
          "state": {
            "_view_name": "LayoutView",
            "grid_template_rows": null,
            "right": null,
            "justify_content": null,
            "_view_module": "@jupyter-widgets/base",
            "overflow": null,
            "_model_module_version": "1.2.0",
            "_view_count": null,
            "flex_flow": null,
            "width": null,
            "min_width": null,
            "border": null,
            "align_items": null,
            "bottom": null,
            "_model_module": "@jupyter-widgets/base",
            "top": null,
            "grid_column": null,
            "overflow_y": null,
            "overflow_x": null,
            "grid_auto_flow": null,
            "grid_area": null,
            "grid_template_columns": null,
            "flex": null,
            "_model_name": "LayoutModel",
            "justify_items": null,
            "grid_row": null,
            "max_height": null,
            "align_content": null,
            "visibility": null,
            "align_self": null,
            "height": null,
            "min_height": null,
            "padding": null,
            "grid_auto_rows": null,
            "grid_gap": null,
            "max_width": null,
            "order": null,
            "_view_module_version": "1.2.0",
            "grid_template_areas": null,
            "object_position": null,
            "object_fit": null,
            "grid_auto_columns": null,
            "margin": null,
            "display": null,
            "left": null
          }
        },
        "2f04a53a39254632929403a835718830": {
          "model_module": "@jupyter-widgets/controls",
          "model_name": "FloatProgressModel",
          "state": {
            "_view_name": "ProgressView",
            "style": "IPY_MODEL_af46035640424392b31071ee3bddec30",
            "_dom_classes": [],
            "description": "100%",
            "_model_name": "FloatProgressModel",
            "bar_style": "success",
            "max": 1321,
            "_view_module": "@jupyter-widgets/controls",
            "_model_module_version": "1.5.0",
            "value": 1321,
            "_view_count": null,
            "_view_module_version": "1.5.0",
            "orientation": "horizontal",
            "min": 0,
            "description_tooltip": null,
            "_model_module": "@jupyter-widgets/controls",
            "layout": "IPY_MODEL_4b09d871143044509262f910613c4c4f"
          }
        },
        "05f1b09878654bb288b18c8f3781f3e6": {
          "model_module": "@jupyter-widgets/controls",
          "model_name": "HTMLModel",
          "state": {
            "_view_name": "HTMLView",
            "style": "IPY_MODEL_9e540776264b4e14922b10fc070d2e6d",
            "_dom_classes": [],
            "description": "",
            "_model_name": "HTMLModel",
            "placeholder": "​",
            "_view_module": "@jupyter-widgets/controls",
            "_model_module_version": "1.5.0",
            "value": " 1321/1321 [00:31&lt;00:00, 41.98it/s]",
            "_view_count": null,
            "_view_module_version": "1.5.0",
            "description_tooltip": null,
            "_model_module": "@jupyter-widgets/controls",
            "layout": "IPY_MODEL_0b124034a5914a41a1fc5cc0ea142be5"
          }
        },
        "af46035640424392b31071ee3bddec30": {
          "model_module": "@jupyter-widgets/controls",
          "model_name": "ProgressStyleModel",
          "state": {
            "_view_name": "StyleView",
            "_model_name": "ProgressStyleModel",
            "description_width": "initial",
            "_view_module": "@jupyter-widgets/base",
            "_model_module_version": "1.5.0",
            "_view_count": null,
            "_view_module_version": "1.2.0",
            "bar_color": null,
            "_model_module": "@jupyter-widgets/controls"
          }
        },
        "4b09d871143044509262f910613c4c4f": {
          "model_module": "@jupyter-widgets/base",
          "model_name": "LayoutModel",
          "state": {
            "_view_name": "LayoutView",
            "grid_template_rows": null,
            "right": null,
            "justify_content": null,
            "_view_module": "@jupyter-widgets/base",
            "overflow": null,
            "_model_module_version": "1.2.0",
            "_view_count": null,
            "flex_flow": null,
            "width": null,
            "min_width": null,
            "border": null,
            "align_items": null,
            "bottom": null,
            "_model_module": "@jupyter-widgets/base",
            "top": null,
            "grid_column": null,
            "overflow_y": null,
            "overflow_x": null,
            "grid_auto_flow": null,
            "grid_area": null,
            "grid_template_columns": null,
            "flex": null,
            "_model_name": "LayoutModel",
            "justify_items": null,
            "grid_row": null,
            "max_height": null,
            "align_content": null,
            "visibility": null,
            "align_self": null,
            "height": null,
            "min_height": null,
            "padding": null,
            "grid_auto_rows": null,
            "grid_gap": null,
            "max_width": null,
            "order": null,
            "_view_module_version": "1.2.0",
            "grid_template_areas": null,
            "object_position": null,
            "object_fit": null,
            "grid_auto_columns": null,
            "margin": null,
            "display": null,
            "left": null
          }
        },
        "9e540776264b4e14922b10fc070d2e6d": {
          "model_module": "@jupyter-widgets/controls",
          "model_name": "DescriptionStyleModel",
          "state": {
            "_view_name": "StyleView",
            "_model_name": "DescriptionStyleModel",
            "description_width": "",
            "_view_module": "@jupyter-widgets/base",
            "_model_module_version": "1.5.0",
            "_view_count": null,
            "_view_module_version": "1.2.0",
            "_model_module": "@jupyter-widgets/controls"
          }
        },
        "0b124034a5914a41a1fc5cc0ea142be5": {
          "model_module": "@jupyter-widgets/base",
          "model_name": "LayoutModel",
          "state": {
            "_view_name": "LayoutView",
            "grid_template_rows": null,
            "right": null,
            "justify_content": null,
            "_view_module": "@jupyter-widgets/base",
            "overflow": null,
            "_model_module_version": "1.2.0",
            "_view_count": null,
            "flex_flow": null,
            "width": null,
            "min_width": null,
            "border": null,
            "align_items": null,
            "bottom": null,
            "_model_module": "@jupyter-widgets/base",
            "top": null,
            "grid_column": null,
            "overflow_y": null,
            "overflow_x": null,
            "grid_auto_flow": null,
            "grid_area": null,
            "grid_template_columns": null,
            "flex": null,
            "_model_name": "LayoutModel",
            "justify_items": null,
            "grid_row": null,
            "max_height": null,
            "align_content": null,
            "visibility": null,
            "align_self": null,
            "height": null,
            "min_height": null,
            "padding": null,
            "grid_auto_rows": null,
            "grid_gap": null,
            "max_width": null,
            "order": null,
            "_view_module_version": "1.2.0",
            "grid_template_areas": null,
            "object_position": null,
            "object_fit": null,
            "grid_auto_columns": null,
            "margin": null,
            "display": null,
            "left": null
          }
        },
        "8019b28868b5485da68a51b7663e21fb": {
          "model_module": "@jupyter-widgets/controls",
          "model_name": "HBoxModel",
          "state": {
            "_view_name": "HBoxView",
            "_dom_classes": [],
            "_model_name": "HBoxModel",
            "_view_module": "@jupyter-widgets/controls",
            "_model_module_version": "1.5.0",
            "_view_count": null,
            "_view_module_version": "1.5.0",
            "box_style": "",
            "layout": "IPY_MODEL_e2541b143f424eb58b58027a8a7adf66",
            "_model_module": "@jupyter-widgets/controls",
            "children": [
              "IPY_MODEL_bf363d275d5648a39f36b54ee2f82eb5",
              "IPY_MODEL_d5e44d9022884dd5ae736a932adafd86"
            ]
          }
        },
        "e2541b143f424eb58b58027a8a7adf66": {
          "model_module": "@jupyter-widgets/base",
          "model_name": "LayoutModel",
          "state": {
            "_view_name": "LayoutView",
            "grid_template_rows": null,
            "right": null,
            "justify_content": null,
            "_view_module": "@jupyter-widgets/base",
            "overflow": null,
            "_model_module_version": "1.2.0",
            "_view_count": null,
            "flex_flow": null,
            "width": null,
            "min_width": null,
            "border": null,
            "align_items": null,
            "bottom": null,
            "_model_module": "@jupyter-widgets/base",
            "top": null,
            "grid_column": null,
            "overflow_y": null,
            "overflow_x": null,
            "grid_auto_flow": null,
            "grid_area": null,
            "grid_template_columns": null,
            "flex": null,
            "_model_name": "LayoutModel",
            "justify_items": null,
            "grid_row": null,
            "max_height": null,
            "align_content": null,
            "visibility": null,
            "align_self": null,
            "height": null,
            "min_height": null,
            "padding": null,
            "grid_auto_rows": null,
            "grid_gap": null,
            "max_width": null,
            "order": null,
            "_view_module_version": "1.2.0",
            "grid_template_areas": null,
            "object_position": null,
            "object_fit": null,
            "grid_auto_columns": null,
            "margin": null,
            "display": null,
            "left": null
          }
        },
        "bf363d275d5648a39f36b54ee2f82eb5": {
          "model_module": "@jupyter-widgets/controls",
          "model_name": "FloatProgressModel",
          "state": {
            "_view_name": "ProgressView",
            "style": "IPY_MODEL_3f01c185cf9e4cd4be308975becf0762",
            "_dom_classes": [],
            "description": "100%",
            "_model_name": "FloatProgressModel",
            "bar_style": "success",
            "max": 1321,
            "_view_module": "@jupyter-widgets/controls",
            "_model_module_version": "1.5.0",
            "value": 1321,
            "_view_count": null,
            "_view_module_version": "1.5.0",
            "orientation": "horizontal",
            "min": 0,
            "description_tooltip": null,
            "_model_module": "@jupyter-widgets/controls",
            "layout": "IPY_MODEL_c33d8613c7bb482b9f1fa144feb78284"
          }
        },
        "d5e44d9022884dd5ae736a932adafd86": {
          "model_module": "@jupyter-widgets/controls",
          "model_name": "HTMLModel",
          "state": {
            "_view_name": "HTMLView",
            "style": "IPY_MODEL_2701630c028845898f65d50650872a31",
            "_dom_classes": [],
            "description": "",
            "_model_name": "HTMLModel",
            "placeholder": "​",
            "_view_module": "@jupyter-widgets/controls",
            "_model_module_version": "1.5.0",
            "value": " 1321/1321 [00:01&lt;00:00, 679.82it/s]",
            "_view_count": null,
            "_view_module_version": "1.5.0",
            "description_tooltip": null,
            "_model_module": "@jupyter-widgets/controls",
            "layout": "IPY_MODEL_5a2180ef7c464aca9482434f03b3dbb8"
          }
        },
        "3f01c185cf9e4cd4be308975becf0762": {
          "model_module": "@jupyter-widgets/controls",
          "model_name": "ProgressStyleModel",
          "state": {
            "_view_name": "StyleView",
            "_model_name": "ProgressStyleModel",
            "description_width": "initial",
            "_view_module": "@jupyter-widgets/base",
            "_model_module_version": "1.5.0",
            "_view_count": null,
            "_view_module_version": "1.2.0",
            "bar_color": null,
            "_model_module": "@jupyter-widgets/controls"
          }
        },
        "c33d8613c7bb482b9f1fa144feb78284": {
          "model_module": "@jupyter-widgets/base",
          "model_name": "LayoutModel",
          "state": {
            "_view_name": "LayoutView",
            "grid_template_rows": null,
            "right": null,
            "justify_content": null,
            "_view_module": "@jupyter-widgets/base",
            "overflow": null,
            "_model_module_version": "1.2.0",
            "_view_count": null,
            "flex_flow": null,
            "width": null,
            "min_width": null,
            "border": null,
            "align_items": null,
            "bottom": null,
            "_model_module": "@jupyter-widgets/base",
            "top": null,
            "grid_column": null,
            "overflow_y": null,
            "overflow_x": null,
            "grid_auto_flow": null,
            "grid_area": null,
            "grid_template_columns": null,
            "flex": null,
            "_model_name": "LayoutModel",
            "justify_items": null,
            "grid_row": null,
            "max_height": null,
            "align_content": null,
            "visibility": null,
            "align_self": null,
            "height": null,
            "min_height": null,
            "padding": null,
            "grid_auto_rows": null,
            "grid_gap": null,
            "max_width": null,
            "order": null,
            "_view_module_version": "1.2.0",
            "grid_template_areas": null,
            "object_position": null,
            "object_fit": null,
            "grid_auto_columns": null,
            "margin": null,
            "display": null,
            "left": null
          }
        },
        "2701630c028845898f65d50650872a31": {
          "model_module": "@jupyter-widgets/controls",
          "model_name": "DescriptionStyleModel",
          "state": {
            "_view_name": "StyleView",
            "_model_name": "DescriptionStyleModel",
            "description_width": "",
            "_view_module": "@jupyter-widgets/base",
            "_model_module_version": "1.5.0",
            "_view_count": null,
            "_view_module_version": "1.2.0",
            "_model_module": "@jupyter-widgets/controls"
          }
        },
        "5a2180ef7c464aca9482434f03b3dbb8": {
          "model_module": "@jupyter-widgets/base",
          "model_name": "LayoutModel",
          "state": {
            "_view_name": "LayoutView",
            "grid_template_rows": null,
            "right": null,
            "justify_content": null,
            "_view_module": "@jupyter-widgets/base",
            "overflow": null,
            "_model_module_version": "1.2.0",
            "_view_count": null,
            "flex_flow": null,
            "width": null,
            "min_width": null,
            "border": null,
            "align_items": null,
            "bottom": null,
            "_model_module": "@jupyter-widgets/base",
            "top": null,
            "grid_column": null,
            "overflow_y": null,
            "overflow_x": null,
            "grid_auto_flow": null,
            "grid_area": null,
            "grid_template_columns": null,
            "flex": null,
            "_model_name": "LayoutModel",
            "justify_items": null,
            "grid_row": null,
            "max_height": null,
            "align_content": null,
            "visibility": null,
            "align_self": null,
            "height": null,
            "min_height": null,
            "padding": null,
            "grid_auto_rows": null,
            "grid_gap": null,
            "max_width": null,
            "order": null,
            "_view_module_version": "1.2.0",
            "grid_template_areas": null,
            "object_position": null,
            "object_fit": null,
            "grid_auto_columns": null,
            "margin": null,
            "display": null,
            "left": null
          }
        }
      }
    }
  },
  "cells": [
    {
      "cell_type": "markdown",
      "metadata": {
        "id": "5fjxpZKx9Ips",
        "colab_type": "text"
      },
      "source": [
        "#0. Google Driveをマウント"
      ]
    },
    {
      "cell_type": "code",
      "metadata": {
        "id": "oLyhBjbYTYDv",
        "colab_type": "code",
        "colab": {}
      },
      "source": [
        ""
      ],
      "execution_count": null,
      "outputs": []
    },
    {
      "cell_type": "markdown",
      "metadata": {
        "id": "q4o22aS4PSIf",
        "colab_type": "text"
      },
      "source": [
        "#1. 必要なライブラリのインストール"
      ]
    },
    {
      "cell_type": "markdown",
      "metadata": {
        "id": "XJOxtyp3OjXy",
        "colab_type": "text"
      },
      "source": [
        "##1.1. GluonCVのインストール (pip)"
      ]
    },
    {
      "cell_type": "code",
      "metadata": {
        "id": "l-9O-HgeOu4C",
        "colab_type": "code",
        "colab": {
          "base_uri": "https://localhost:8080/",
          "height": 355
        },
        "outputId": "7d653965-69d8-4c43-b0d6-7c8e190ba49b"
      },
      "source": [
        "!pip install mxnet gluoncv"
      ],
      "execution_count": 1,
      "outputs": [
        {
          "output_type": "stream",
          "text": [
            "Requirement already satisfied: mxnet in /usr/local/lib/python3.6/dist-packages (1.7.0.post1)\n",
            "Requirement already satisfied: gluoncv in /usr/local/lib/python3.6/dist-packages (0.8.0)\n",
            "Requirement already satisfied: graphviz<0.9.0,>=0.8.1 in /usr/local/lib/python3.6/dist-packages (from mxnet) (0.8.4)\n",
            "Requirement already satisfied: numpy<2.0.0,>1.16.0 in /usr/local/lib/python3.6/dist-packages (from mxnet) (1.18.5)\n",
            "Requirement already satisfied: requests<3,>=2.20.0 in /usr/local/lib/python3.6/dist-packages (from mxnet) (2.23.0)\n",
            "Requirement already satisfied: matplotlib in /usr/local/lib/python3.6/dist-packages (from gluoncv) (3.2.2)\n",
            "Requirement already satisfied: scipy in /usr/local/lib/python3.6/dist-packages (from gluoncv) (1.4.1)\n",
            "Requirement already satisfied: portalocker in /usr/local/lib/python3.6/dist-packages (from gluoncv) (2.0.0)\n",
            "Requirement already satisfied: tqdm in /usr/local/lib/python3.6/dist-packages (from gluoncv) (4.41.1)\n",
            "Requirement already satisfied: Pillow in /usr/local/lib/python3.6/dist-packages (from gluoncv) (7.0.0)\n",
            "Requirement already satisfied: chardet<4,>=3.0.2 in /usr/local/lib/python3.6/dist-packages (from requests<3,>=2.20.0->mxnet) (3.0.4)\n",
            "Requirement already satisfied: certifi>=2017.4.17 in /usr/local/lib/python3.6/dist-packages (from requests<3,>=2.20.0->mxnet) (2020.6.20)\n",
            "Requirement already satisfied: idna<3,>=2.5 in /usr/local/lib/python3.6/dist-packages (from requests<3,>=2.20.0->mxnet) (2.10)\n",
            "Requirement already satisfied: urllib3!=1.25.0,!=1.25.1,<1.26,>=1.21.1 in /usr/local/lib/python3.6/dist-packages (from requests<3,>=2.20.0->mxnet) (1.24.3)\n",
            "Requirement already satisfied: python-dateutil>=2.1 in /usr/local/lib/python3.6/dist-packages (from matplotlib->gluoncv) (2.8.1)\n",
            "Requirement already satisfied: kiwisolver>=1.0.1 in /usr/local/lib/python3.6/dist-packages (from matplotlib->gluoncv) (1.2.0)\n",
            "Requirement already satisfied: pyparsing!=2.0.4,!=2.1.2,!=2.1.6,>=2.0.1 in /usr/local/lib/python3.6/dist-packages (from matplotlib->gluoncv) (2.4.7)\n",
            "Requirement already satisfied: cycler>=0.10 in /usr/local/lib/python3.6/dist-packages (from matplotlib->gluoncv) (0.10.0)\n",
            "Requirement already satisfied: six>=1.5 in /usr/local/lib/python3.6/dist-packages (from python-dateutil>=2.1->matplotlib->gluoncv) (1.15.0)\n"
          ],
          "name": "stdout"
        }
      ]
    },
    {
      "cell_type": "markdown",
      "metadata": {
        "id": "1Fjo8EWWOyXB",
        "colab_type": "text"
      },
      "source": [
        "##1.2 OpenCVのバージョンを4.1.2.3にする。\n",
        "\n",
        "python-opencvで\"cocoa\"が見つからないというエラーを解消するため。\n",
        "\n",
        "https://qiita.com/jmtsn/items/aa73d837b3a8d4158885"
      ]
    },
    {
      "cell_type": "code",
      "metadata": {
        "id": "UFvAnzCmPKsU",
        "colab_type": "code",
        "colab": {
          "base_uri": "https://localhost:8080/",
          "height": 108
        },
        "outputId": "94064e5b-0df9-4671-be5c-9e65253af39c"
      },
      "source": [
        "!pip install opencv-python==4.1.2.30\n",
        "!pip install opencv-contrib-python==4.1.2.30"
      ],
      "execution_count": 2,
      "outputs": [
        {
          "output_type": "stream",
          "text": [
            "Requirement already satisfied: opencv-python==4.1.2.30 in /usr/local/lib/python3.6/dist-packages (4.1.2.30)\n",
            "Requirement already satisfied: numpy>=1.11.3 in /usr/local/lib/python3.6/dist-packages (from opencv-python==4.1.2.30) (1.18.5)\n",
            "Requirement already satisfied: opencv-contrib-python==4.1.2.30 in /usr/local/lib/python3.6/dist-packages (4.1.2.30)\n",
            "Requirement already satisfied: numpy>=1.11.3 in /usr/local/lib/python3.6/dist-packages (from opencv-contrib-python==4.1.2.30) (1.18.5)\n"
          ],
          "name": "stdout"
        }
      ]
    },
    {
      "cell_type": "markdown",
      "metadata": {
        "id": "OBOt044KqpkD",
        "colab_type": "text"
      },
      "source": [
        "##1.3 進行状況を表示するtqdmと呼ばれるライブラリをダウンロードする。"
      ]
    },
    {
      "cell_type": "code",
      "metadata": {
        "id": "3OsxsVIzU2-f",
        "colab_type": "code",
        "colab": {
          "base_uri": "https://localhost:8080/",
          "height": 56
        },
        "outputId": "c83654bc-2028-4a18-b332-7e84652df239"
      },
      "source": [
        "!pip install tqdm #進行状況を表示するライブラリ #https://blog2.cct-inc.co.jp/blog/python/python_progressbar/"
      ],
      "execution_count": 3,
      "outputs": [
        {
          "output_type": "stream",
          "text": [
            "Requirement already satisfied: tqdm in /usr/local/lib/python3.6/dist-packages (4.41.1)\n"
          ],
          "name": "stdout"
        }
      ]
    },
    {
      "cell_type": "markdown",
      "metadata": {
        "id": "G3ThPYq60tPw",
        "colab_type": "text"
      },
      "source": [
        "#2. コードを実行"
      ]
    },
    {
      "cell_type": "markdown",
      "metadata": {
        "id": "G3DxivNG00pt",
        "colab_type": "text"
      },
      "source": [
        "##2.1. フォルダ名を変数にするため、現在の時刻をを取得する。"
      ]
    },
    {
      "cell_type": "code",
      "metadata": {
        "id": "AePujRidNAo2",
        "colab_type": "code",
        "colab": {
          "base_uri": "https://localhost:8080/",
          "height": 32
        },
        "outputId": "54460cea-a296-4b0b-a8dc-5173c5925f9d"
      },
      "source": [
        "import datetime\n",
        "from pytz import timezone\n",
        "dates=datetime.datetime.now(timezone('Asia/Tokyo'))\n",
        "exept_microsec=dates.strftime(\"%Y-%m-%d-%H-%M\")\n",
        "print('[Today : %s]' % str(exept_microsec))\n",
        "\n",
        "DATATIME=exept_microsec"
      ],
      "execution_count": 4,
      "outputs": [
        {
          "output_type": "stream",
          "text": [
            "[Today : 2020-09-03-20-01]\n"
          ],
          "name": "stdout"
        }
      ]
    },
    {
      "cell_type": "markdown",
      "metadata": {
        "id": "uvqpQcZj1Id_",
        "colab_type": "text"
      },
      "source": [
        "##2.2. データまでのパスを指定する。"
      ]
    },
    {
      "cell_type": "code",
      "metadata": {
        "id": "K8QJzlh41HS4",
        "colab_type": "code",
        "colab": {}
      },
      "source": [
        "INPUT_PATH=\"/content/drive/My Drive/datasets/\"\n",
        "INPUT_FILE=\"videoplayback.mp4\"\n",
        "\n",
        "OUTPUT_PATH=\"/content/drive/My Drive/datasets/\" + \"PoseEstim_GluonCV_%s/\" % DATATIME\n",
        "OUTPUT_FILE='PoseEstim_%s_from_%s' % (DATATIME, INPUT_FILE)\n",
        "\n",
        "#出力するフォルダを作成。\n",
        "import os\n",
        "os.mkdir(OUTPUT_PATH)"
      ],
      "execution_count": 5,
      "outputs": []
    },
    {
      "cell_type": "markdown",
      "metadata": {
        "id": "FSJ4mRAI1hBP",
        "colab_type": "text"
      },
      "source": [
        "##2.3. 動画ファイルを取得"
      ]
    },
    {
      "cell_type": "code",
      "metadata": {
        "id": "gOiyWdBcrVw1",
        "colab_type": "code",
        "colab": {
          "base_uri": "https://localhost:8080/",
          "height": 148
        },
        "outputId": "1c80debf-1963-4455-b816-e679f9ba6706"
      },
      "source": [
        "import os\n",
        "import cv2\n",
        "\n",
        "if os.path.isfile(INPUT_PATH+INPUT_FILE) ==True:\n",
        "  print(\"%sにおいて、%sの存在が確認できました。\" % (INPUT_PATH,INPUT_FILE))\n",
        "  print(\"動画の解析を開始します... \")\n",
        "  print()\n",
        "else:\n",
        "  print(\"%sにおいて、%sの存在が確認できません。パスを見直してください。\" % (INPUT_PATH,INPUT_FILE))\n",
        "\n",
        "cap = cv2.VideoCapture(INPUT_PATH+INPUT_FILE)\n",
        "#time.sleep(1)  ### letting the camera autofocus\n",
        "print(cap)\n",
        "\n",
        "# encoder(for mp4)\n",
        "fourcc = cv2.VideoWriter_fourcc(*'XVID')\n",
        "# output file name, encoder, fps, size(fit to image size)\n",
        "width= cap.get(cv2.CAP_PROP_FRAME_WIDTH)\n",
        "height = cap.get(cv2.CAP_PROP_FRAME_HEIGHT)\n",
        "fps = cap.get(cv2.CAP_PROP_FPS)\n",
        "\n",
        "axes = None\n",
        "num_frames = cap.get(cv2.CAP_PROP_FRAME_COUNT)\n",
        "\n",
        "print(\"fps     : \", fps)\n",
        "print(\"width  : \", width)\n",
        "print(\"height : \", height)\n",
        "print(\"frames : \" , num_frames)\n",
        "\n",
        "#video = cv2.VideoWriter(OUTPUT_PATH + OUTPUT_FILE ,fourcc, fps, (int(height), int(width)))"
      ],
      "execution_count": 6,
      "outputs": [
        {
          "output_type": "stream",
          "text": [
            "/content/drive/My Drive/datasets/において、videoplayback.mp4の存在が確認できました。\n",
            "動画の解析を開始します... \n",
            "\n",
            "<VideoCapture 0x7f570b2ce730>\n",
            "fps     :  59.94005994005994\n",
            "width  :  1920.0\n",
            "height :  1080.0\n",
            "frames :  1323.0\n"
          ],
          "name": "stdout"
        }
      ]
    },
    {
      "cell_type": "markdown",
      "metadata": {
        "id": "ETdbm1mR1huG",
        "colab_type": "text"
      },
      "source": [
        "##2.4. モデルの作成"
      ]
    },
    {
      "cell_type": "code",
      "metadata": {
        "id": "-3m0CS2Mq_Tp",
        "colab_type": "code",
        "colab": {
          "base_uri": "https://localhost:8080/",
          "height": 65
        },
        "outputId": "3fa431a1-b4fa-47ce-a554-58498b92a4b9"
      },
      "source": [
        "import mxnet as mx\n",
        "from gluoncv.model_zoo import get_model\n",
        "\n",
        "ctx = mx.cpu()\n",
        "detector_name = \"ssd_512_mobilenet1.0_coco\"\n",
        "detector = get_model(detector_name, pretrained=True, ctx=ctx)\n",
        "\n",
        "\n",
        "detector.reset_class(classes=['person'], reuse_weights={'person':'person'})\n",
        "detector.hybridize()\n",
        "\n",
        "estimator = get_model('simple_pose_resnet18_v1b', pretrained='ccd24037', ctx=ctx)\n",
        "estimator.hybridize()"
      ],
      "execution_count": 7,
      "outputs": [
        {
          "output_type": "stream",
          "text": [
            "/usr/local/lib/python3.6/dist-packages/mxnet/gluon/block.py:1512: UserWarning: Cannot decide type for the following arguments. Consider providing them as input:\n",
            "\tdata: None\n",
            "  input_sym_arg_type = in_param.infer_type()[0]\n"
          ],
          "name": "stderr"
        }
      ]
    },
    {
      "cell_type": "markdown",
      "metadata": {
        "id": "aVpBnOF81iiC",
        "colab_type": "text"
      },
      "source": [
        "##2.5. 画像1枚ずつ姿勢推定をする。"
      ]
    },
    {
      "cell_type": "code",
      "metadata": {
        "id": "_959RAk1rjcq",
        "colab_type": "code",
        "colab": {
          "base_uri": "https://localhost:8080/",
          "height": 1000,
          "referenced_widgets": [
            "51e58d804d1f4e5291c4001b069d02b9",
            "b6706f695cdf4e9bb1dd52065a1a1c20",
            "4d20a20076ab49b78e13fbb5d7c4c626",
            "c25afb76b61d42e690d33bc64831c4d8",
            "caae6f273c794efd86ee956b22e7f059",
            "e3818bd1c00044ae84e4c315c0893ab0",
            "65a6961b74994ec1a4694c65d6296ea5",
            "f28be2f68db34dd88c669fc6d1910d7b"
          ]
        },
        "outputId": "81a2e6ab-ca96-49e3-9fdc-cea872ef89db"
      },
      "source": [
        "import gluoncv as gcv\n",
        "from gluoncv.data.transforms.pose import detector_to_simple_pose, heatmap_to_coord\n",
        "from gluoncv.utils.viz import cv_plot_image, cv_plot_keypoints\n",
        "\n",
        "import time\n",
        "import sys\n",
        "import numpy as np\n",
        "from tqdm.autonotebook import tqdm\n",
        "\n",
        "cap = cv2.VideoCapture(INPUT_PATH+INPUT_FILE)\n",
        "\n",
        "print(\"姿勢推定を開始します...\")\n",
        "print()\n",
        "i=0\n",
        "for i in tqdm(range(int(num_frames))):\n",
        "    ret, frame = cap.read()\n",
        "    frame = mx.nd.array(cv2.cvtColor(frame, cv2.COLOR_BGR2RGB)).astype('uint8')\n",
        "\n",
        "    x, frame = gcv.data.transforms.presets.ssd.transform_test(frame, short=512, max_size=350)\n",
        "    x = x.as_in_context(ctx)\n",
        "    class_IDs, scores, bounding_boxs = detector(x)\n",
        "\n",
        "    pose_input, upscale_bbox = detector_to_simple_pose(frame, class_IDs, scores, bounding_boxs,\n",
        "                                                       output_shape=(128, 96), ctx=ctx)\n",
        "    if len(upscale_bbox) > 0:\n",
        "        predicted_heatmap = estimator(pose_input)\n",
        "        pred_coords, confidence = heatmap_to_coord(predicted_heatmap, upscale_bbox) #pred_coordsが座標, confidenceが信頼度を表す。\n",
        "\n",
        "        #------------------------------------------------------------------------------------------------------------\n",
        "        #こっから画像に座標を描画する。\n",
        "        #------------------------------------------------------------------------------------------------------------\n",
        "        img = cv_plot_keypoints(frame, pred_coords, confidence, class_IDs, \n",
        "                                bounding_boxs, scores, box_thresh=0.5, keypoint_thresh=0.2)\n",
        "        \n",
        "        # can't read image, escape\n",
        "        if img is None:\n",
        "          print(\"can't read\")\n",
        "          break\n",
        "\n",
        "        # add\n",
        "        img= cv2.cvtColor(img, cv2.COLOR_RGB2BGR)\n",
        "        cv2.imwrite(OUTPUT_PATH + \"%s.jpg\" % (str(i).zfill(4)), img)\n",
        "        #------------------------------------------------------------------------------------------------------------\n",
        "\n",
        "\n",
        "    #------------------------------------------------------------------------------------------------------------\n",
        "    #こっから座標 (pred_coords) と 信頼度 (confidence) を操作可能な状態へ変換する。\n",
        "    #------------------------------------------------------------------------------------------------------------\n",
        "    #mxNetのNDArrayからNumpyへ型を変換する。\n",
        "    pred_coords_v2 = pred_coords.asnumpy()\n",
        "    confidence_v2=confidence.asnumpy()\n",
        "\n",
        "    #2つのshapeを揃える。\n",
        "    pred_coords_v3=np.squeeze(pred_coords_v2, 0)\n",
        "    confidence_v3=np.squeeze(confidence_v2, 0)\n",
        "    #------------------------------------------------------------------------------------------------------------\n",
        "    \n",
        "    #------------------------------------------------------------------------------------------------------------\n",
        "    #こっからテンソル型のデータを作成。(特に意味はない。とりあえず作ってみる。)\n",
        "    #------------------------------------------------------------------------------------------------------------\n",
        "    #(x座標, y座標, 信頼度)の順に列方向(axes=1)へ結合\n",
        "    Output_PoseEstim=np.concatenate([pred_coords_v3, confidence_v3], 1)\n",
        "\n",
        "    #print(Output_PoseEstim)\n",
        "    if i==0:\n",
        "      Output_PoseEstim_Tensor=Output_PoseEstim\n",
        "    \n",
        "    else:\n",
        "      Output_PoseEstim_Tensor=np.dstack([Output_PoseEstim_Tensor, Output_PoseEstim])\n",
        "    #------------------------------------------------------------------------------------------------------------\n",
        "\n",
        "    time.sleep(0.01)\n",
        "\n",
        "    #cv2_imshow(img)\n",
        "\n",
        "print('姿勢推定が完了しました。')\n",
        "print()\n",
        "\n",
        "#video.release()"
      ],
      "execution_count": 8,
      "outputs": [
        {
          "output_type": "stream",
          "text": [
            "姿勢推定を開始します...\n",
            "\n"
          ],
          "name": "stdout"
        },
        {
          "output_type": "stream",
          "text": [
            "/usr/local/lib/python3.6/dist-packages/ipykernel_launcher.py:8: TqdmExperimentalWarning: Using `tqdm.autonotebook.tqdm` in notebook mode. Use `tqdm.tqdm` instead to force console mode (e.g. in jupyter console)\n",
            "  \n"
          ],
          "name": "stderr"
        },
        {
          "output_type": "display_data",
          "data": {
            "application/vnd.jupyter.widget-view+json": {
              "model_id": "51e58d804d1f4e5291c4001b069d02b9",
              "version_minor": 0,
              "version_major": 2
            },
            "text/plain": [
              "HBox(children=(FloatProgress(value=0.0, max=1323.0), HTML(value='')))"
            ]
          },
          "metadata": {
            "tags": []
          }
        },
        {
          "output_type": "stream",
          "text": [
            "\n",
            "姿勢推定が完了しました。\n",
            "\n"
          ],
          "name": "stdout"
        }
      ]
    },
    {
      "cell_type": "code",
      "metadata": {
        "id": "2WLBIkWAiaYD",
        "colab_type": "code",
        "colab": {
          "base_uri": "https://localhost:8080/",
          "height": 32
        },
        "outputId": "046766af-6825-4739-bbbb-fb5268a6d6a4"
      },
      "source": [
        "print(Output_PoseEstim_Tensor.shape)"
      ],
      "execution_count": 9,
      "outputs": [
        {
          "output_type": "stream",
          "text": [
            "(17, 3, 1323)\n"
          ],
          "name": "stdout"
        }
      ]
    },
    {
      "cell_type": "markdown",
      "metadata": {
        "id": "LgoEJK8y1j_D",
        "colab_type": "text"
      },
      "source": [
        "##2.6. 画像を結合して動画に変換する。"
      ]
    },
    {
      "cell_type": "code",
      "metadata": {
        "id": "cwE8IqhQcbbl",
        "colab_type": "code",
        "colab": {
          "base_uri": "https://localhost:8080/",
          "height": 98,
          "referenced_widgets": [
            "6a0b550c00f948ee8992c49f7c62fcb5",
            "f6bbe5b14f824c17b16c44f4e42bca5f",
            "2f04a53a39254632929403a835718830",
            "05f1b09878654bb288b18c8f3781f3e6",
            "af46035640424392b31071ee3bddec30",
            "4b09d871143044509262f910613c4c4f",
            "9e540776264b4e14922b10fc070d2e6d",
            "0b124034a5914a41a1fc5cc0ea142be5"
          ]
        },
        "outputId": "462c2443-e511-4452-ec94-e1ffed1ce9bd"
      },
      "source": [
        "# 画像結合\n",
        "import glob\n",
        "\n",
        "print(\"画像を結合して動画を作成します...\")\n",
        "fourcc = cv2.VideoWriter_fourcc('m','p','4','v')\n",
        "video = cv2.VideoWriter(OUTPUT_PATH + OUTPUT_FILE, fourcc, fps, (int(width), int(height)))\n",
        "\n",
        "images = glob.glob(OUTPUT_PATH + \"*.jpg\")\n",
        "\n",
        "from tqdm.autonotebook import tqdm\n",
        "for i in tqdm(range(len(images))):\n",
        "    img = cv2.resize(cv2.imread(images[i]),(int(width),int(height)))\n",
        "    video.write(img) \n",
        "\n",
        "video.release()\n",
        "print(\"%sにおいて、%sを作成しました。\" % (OUTPUT_PATH, OUTPUT_FILE))"
      ],
      "execution_count": 10,
      "outputs": [
        {
          "output_type": "stream",
          "text": [
            "画像を結合して動画を作成します...\n"
          ],
          "name": "stdout"
        },
        {
          "output_type": "display_data",
          "data": {
            "application/vnd.jupyter.widget-view+json": {
              "model_id": "6a0b550c00f948ee8992c49f7c62fcb5",
              "version_minor": 0,
              "version_major": 2
            },
            "text/plain": [
              "HBox(children=(FloatProgress(value=0.0, max=1321.0), HTML(value='')))"
            ]
          },
          "metadata": {
            "tags": []
          }
        },
        {
          "output_type": "stream",
          "text": [
            "\n",
            "/content/drive/My Drive/datasets/PoseEstim_GluonCV_2020-09-03-20-01/において、PoseEstim_2020-09-03-20-01_from_videoplayback.mp4を作成しました。\n"
          ],
          "name": "stdout"
        }
      ]
    },
    {
      "cell_type": "markdown",
      "metadata": {
        "id": "OMvfkKP9Txq5",
        "colab_type": "text"
      },
      "source": [
        "-補足-\n",
        "\n",
        "ffmpegを使用する場合は、以下をシェルで打つ。\n",
        "\n",
        "`ffmpeg -r 60 -i %04d.jpg -vf scale=trunc(iw/2)*2:trunc(ih/2)*2 -r 24 out.mp4'`\n",
        "\n",
        "https://qiita.com/genchi-jin/items/90078b6ec751fdacbc9e"
      ]
    },
    {
      "cell_type": "markdown",
      "metadata": {
        "id": "sgmvUGGC1kyf",
        "colab_type": "text"
      },
      "source": [
        "##2.7. 不要なデータを削除する。"
      ]
    },
    {
      "cell_type": "code",
      "metadata": {
        "id": "GU9S-5OsjbFu",
        "colab_type": "code",
        "colab": {
          "base_uri": "https://localhost:8080/",
          "height": 115,
          "referenced_widgets": [
            "8019b28868b5485da68a51b7663e21fb",
            "e2541b143f424eb58b58027a8a7adf66",
            "bf363d275d5648a39f36b54ee2f82eb5",
            "d5e44d9022884dd5ae736a932adafd86",
            "3f01c185cf9e4cd4be308975becf0762",
            "c33d8613c7bb482b9f1fa144feb78284",
            "2701630c028845898f65d50650872a31",
            "5a2180ef7c464aca9482434f03b3dbb8"
          ]
        },
        "outputId": "03c06e5f-6e74-4704-8d4b-5f8e4685758b"
      },
      "source": [
        "from tqdm.autonotebook import tqdm\n",
        "import os\n",
        "\n",
        "print('使用済みデータを削除します...')\n",
        "for i in tqdm(range(len(images))):\n",
        "    os.remove(images[i])\n",
        "\n",
        "print()\n",
        "print('終了')"
      ],
      "execution_count": 11,
      "outputs": [
        {
          "output_type": "stream",
          "text": [
            "使用済みデータを削除します...\n"
          ],
          "name": "stdout"
        },
        {
          "output_type": "display_data",
          "data": {
            "application/vnd.jupyter.widget-view+json": {
              "model_id": "8019b28868b5485da68a51b7663e21fb",
              "version_minor": 0,
              "version_major": 2
            },
            "text/plain": [
              "HBox(children=(FloatProgress(value=0.0, max=1321.0), HTML(value='')))"
            ]
          },
          "metadata": {
            "tags": []
          }
        },
        {
          "output_type": "stream",
          "text": [
            "\n",
            "\n",
            "終了\n"
          ],
          "name": "stdout"
        }
      ]
    }
  ]
}