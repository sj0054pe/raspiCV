{
  "nbformat": 4,
  "nbformat_minor": 0,
  "metadata": {
    "colab": {
      "name": "HRNet_MAYO.ipynb",
      "provenance": [],
      "collapsed_sections": [],
      "toc_visible": true,
      "authorship_tag": "ABX9TyPgQjIxHAHihhGjmQREAhCY",
      "include_colab_link": true
    },
    "kernelspec": {
      "name": "python3",
      "display_name": "Python 3"
    },
    "accelerator": "GPU"
  },
  "cells": [
    {
      "cell_type": "markdown",
      "metadata": {
        "id": "view-in-github",
        "colab_type": "text"
      },
      "source": [
        "<a href=\"https://colab.research.google.com/github/sj0054pe/raspiCV/blob/pose_estimation/raspiCV/OpenVision/src/PoseEstimation/HRNet_MAYO.ipynb\" target=\"_parent\"><img src=\"https://colab.research.google.com/assets/colab-badge.svg\" alt=\"Open In Colab\"/></a>"
      ]
    },
    {
      "cell_type": "markdown",
      "metadata": {
        "id": "ibHiDJA7cLkm"
      },
      "source": [
        "https://github.com/leoxiaobin/deep-high-resolution-net.pytorch"
      ]
    },
    {
      "cell_type": "code",
      "metadata": {
        "id": "fhIypF6V7JJh"
      },
      "source": [
        "#!/usr/bin/env python\n",
        "# -*- coding: utf-8 -*-"
      ],
      "execution_count": 1,
      "outputs": []
    },
    {
      "cell_type": "code",
      "metadata": {
        "id": "t_xsT-310Se6",
        "outputId": "82ee7aa2-12f1-4564-d050-7a9e9d6dcc83",
        "colab": {
          "base_uri": "https://localhost:8080/"
        }
      },
      "source": [
        "from google.colab import drive\n",
        "drive.mount('/content/drive')"
      ],
      "execution_count": 2,
      "outputs": [
        {
          "output_type": "stream",
          "text": [
            "Mounted at /content/drive\n"
          ],
          "name": "stdout"
        }
      ]
    },
    {
      "cell_type": "code",
      "metadata": {
        "id": "4u0DPBdm0l_Y",
        "outputId": "4e6d745e-3bc3-4b9d-97b5-895c776f8d5e",
        "colab": {
          "base_uri": "https://localhost:8080/"
        }
      },
      "source": [
        "%cd /content/drive/My Drive/研究室/Personal/library/deep-high-resolution-net.pytorch"
      ],
      "execution_count": 3,
      "outputs": [
        {
          "output_type": "stream",
          "text": [
            "/content/drive/My Drive/研究室/Personal/library/deep-high-resolution-net.pytorch\n"
          ],
          "name": "stdout"
        }
      ]
    },
    {
      "cell_type": "code",
      "metadata": {
        "id": "jqW6rEYA0oNK",
        "outputId": "a4d8e60f-0e65-495e-9bec-8fe6e4bde03c",
        "colab": {
          "base_uri": "https://localhost:8080/"
        }
      },
      "source": [
        "!pip install imgaug==0.2.5\n",
        "!pip install -r requirements.txt\n",
        "%cd lib\n",
        "#!mkdir ../output\n",
        "#!mkdir ../log\n",
        "!make"
      ],
      "execution_count": 4,
      "outputs": [
        {
          "output_type": "stream",
          "text": [
            "Collecting imgaug==0.2.5\n",
            "\u001b[?25l  Downloading https://files.pythonhosted.org/packages/d2/60/a06a48d85a7e9062f5870347a3e3e953da30b37928d43b380c949bca458a/imgaug-0.2.5.tar.gz (562kB)\n",
            "\r\u001b[K     |▋                               | 10kB 21.8MB/s eta 0:00:01\r\u001b[K     |█▏                              | 20kB 24.3MB/s eta 0:00:01\r\u001b[K     |█▊                              | 30kB 13.8MB/s eta 0:00:01\r\u001b[K     |██▎                             | 40kB 9.4MB/s eta 0:00:01\r\u001b[K     |███                             | 51kB 8.3MB/s eta 0:00:01\r\u001b[K     |███▌                            | 61kB 8.8MB/s eta 0:00:01\r\u001b[K     |████                            | 71kB 8.1MB/s eta 0:00:01\r\u001b[K     |████▋                           | 81kB 8.0MB/s eta 0:00:01\r\u001b[K     |█████▎                          | 92kB 8.4MB/s eta 0:00:01\r\u001b[K     |█████▉                          | 102kB 8.0MB/s eta 0:00:01\r\u001b[K     |██████▍                         | 112kB 8.0MB/s eta 0:00:01\r\u001b[K     |███████                         | 122kB 8.0MB/s eta 0:00:01\r\u001b[K     |███████▋                        | 133kB 8.0MB/s eta 0:00:01\r\u001b[K     |████████▏                       | 143kB 8.0MB/s eta 0:00:01\r\u001b[K     |████████▊                       | 153kB 8.0MB/s eta 0:00:01\r\u001b[K     |█████████▎                      | 163kB 8.0MB/s eta 0:00:01\r\u001b[K     |██████████                      | 174kB 8.0MB/s eta 0:00:01\r\u001b[K     |██████████▌                     | 184kB 8.0MB/s eta 0:00:01\r\u001b[K     |███████████                     | 194kB 8.0MB/s eta 0:00:01\r\u001b[K     |███████████▋                    | 204kB 8.0MB/s eta 0:00:01\r\u001b[K     |████████████▎                   | 215kB 8.0MB/s eta 0:00:01\r\u001b[K     |████████████▉                   | 225kB 8.0MB/s eta 0:00:01\r\u001b[K     |█████████████▍                  | 235kB 8.0MB/s eta 0:00:01\r\u001b[K     |██████████████                  | 245kB 8.0MB/s eta 0:00:01\r\u001b[K     |██████████████▋                 | 256kB 8.0MB/s eta 0:00:01\r\u001b[K     |███████████████▏                | 266kB 8.0MB/s eta 0:00:01\r\u001b[K     |███████████████▊                | 276kB 8.0MB/s eta 0:00:01\r\u001b[K     |████████████████▎               | 286kB 8.0MB/s eta 0:00:01\r\u001b[K     |████████████████▉               | 296kB 8.0MB/s eta 0:00:01\r\u001b[K     |█████████████████▌              | 307kB 8.0MB/s eta 0:00:01\r\u001b[K     |██████████████████              | 317kB 8.0MB/s eta 0:00:01\r\u001b[K     |██████████████████▋             | 327kB 8.0MB/s eta 0:00:01\r\u001b[K     |███████████████████▏            | 337kB 8.0MB/s eta 0:00:01\r\u001b[K     |███████████████████▉            | 348kB 8.0MB/s eta 0:00:01\r\u001b[K     |████████████████████▍           | 358kB 8.0MB/s eta 0:00:01\r\u001b[K     |█████████████████████           | 368kB 8.0MB/s eta 0:00:01\r\u001b[K     |█████████████████████▌          | 378kB 8.0MB/s eta 0:00:01\r\u001b[K     |██████████████████████▏         | 389kB 8.0MB/s eta 0:00:01\r\u001b[K     |██████████████████████▊         | 399kB 8.0MB/s eta 0:00:01\r\u001b[K     |███████████████████████▎        | 409kB 8.0MB/s eta 0:00:01\r\u001b[K     |███████████████████████▉        | 419kB 8.0MB/s eta 0:00:01\r\u001b[K     |████████████████████████▌       | 430kB 8.0MB/s eta 0:00:01\r\u001b[K     |█████████████████████████       | 440kB 8.0MB/s eta 0:00:01\r\u001b[K     |█████████████████████████▋      | 450kB 8.0MB/s eta 0:00:01\r\u001b[K     |██████████████████████████▏     | 460kB 8.0MB/s eta 0:00:01\r\u001b[K     |██████████████████████████▉     | 471kB 8.0MB/s eta 0:00:01\r\u001b[K     |███████████████████████████▍    | 481kB 8.0MB/s eta 0:00:01\r\u001b[K     |████████████████████████████    | 491kB 8.0MB/s eta 0:00:01\r\u001b[K     |████████████████████████████▌   | 501kB 8.0MB/s eta 0:00:01\r\u001b[K     |█████████████████████████████▏  | 512kB 8.0MB/s eta 0:00:01\r\u001b[K     |█████████████████████████████▊  | 522kB 8.0MB/s eta 0:00:01\r\u001b[K     |██████████████████████████████▎ | 532kB 8.0MB/s eta 0:00:01\r\u001b[K     |██████████████████████████████▉ | 542kB 8.0MB/s eta 0:00:01\r\u001b[K     |███████████████████████████████▍| 552kB 8.0MB/s eta 0:00:01\r\u001b[K     |████████████████████████████████| 563kB 8.0MB/s \n",
            "\u001b[?25hRequirement already satisfied: scipy in /usr/local/lib/python3.6/dist-packages (from imgaug==0.2.5) (1.4.1)\n",
            "Requirement already satisfied: scikit-image>=0.11.0 in /usr/local/lib/python3.6/dist-packages (from imgaug==0.2.5) (0.16.2)\n",
            "Requirement already satisfied: numpy>=1.7.0 in /usr/local/lib/python3.6/dist-packages (from imgaug==0.2.5) (1.18.5)\n",
            "Requirement already satisfied: six in /usr/local/lib/python3.6/dist-packages (from imgaug==0.2.5) (1.15.0)\n",
            "Requirement already satisfied: imageio>=2.3.0 in /usr/local/lib/python3.6/dist-packages (from scikit-image>=0.11.0->imgaug==0.2.5) (2.4.1)\n",
            "Requirement already satisfied: pillow>=4.3.0 in /usr/local/lib/python3.6/dist-packages (from scikit-image>=0.11.0->imgaug==0.2.5) (7.0.0)\n",
            "Requirement already satisfied: networkx>=2.0 in /usr/local/lib/python3.6/dist-packages (from scikit-image>=0.11.0->imgaug==0.2.5) (2.5)\n",
            "Requirement already satisfied: PyWavelets>=0.4.0 in /usr/local/lib/python3.6/dist-packages (from scikit-image>=0.11.0->imgaug==0.2.5) (1.1.1)\n",
            "Requirement already satisfied: matplotlib!=3.0.0,>=2.0.0 in /usr/local/lib/python3.6/dist-packages (from scikit-image>=0.11.0->imgaug==0.2.5) (3.2.2)\n",
            "Requirement already satisfied: decorator>=4.3.0 in /usr/local/lib/python3.6/dist-packages (from networkx>=2.0->scikit-image>=0.11.0->imgaug==0.2.5) (4.4.2)\n",
            "Requirement already satisfied: python-dateutil>=2.1 in /usr/local/lib/python3.6/dist-packages (from matplotlib!=3.0.0,>=2.0.0->scikit-image>=0.11.0->imgaug==0.2.5) (2.8.1)\n",
            "Requirement already satisfied: kiwisolver>=1.0.1 in /usr/local/lib/python3.6/dist-packages (from matplotlib!=3.0.0,>=2.0.0->scikit-image>=0.11.0->imgaug==0.2.5) (1.3.1)\n",
            "Requirement already satisfied: pyparsing!=2.0.4,!=2.1.2,!=2.1.6,>=2.0.1 in /usr/local/lib/python3.6/dist-packages (from matplotlib!=3.0.0,>=2.0.0->scikit-image>=0.11.0->imgaug==0.2.5) (2.4.7)\n",
            "Requirement already satisfied: cycler>=0.10 in /usr/local/lib/python3.6/dist-packages (from matplotlib!=3.0.0,>=2.0.0->scikit-image>=0.11.0->imgaug==0.2.5) (0.10.0)\n",
            "Building wheels for collected packages: imgaug\n",
            "  Building wheel for imgaug (setup.py) ... \u001b[?25l\u001b[?25hdone\n",
            "  Created wheel for imgaug: filename=imgaug-0.2.5-cp36-none-any.whl size=561440 sha256=39a7e2e91aa75059a56c56444c1812691ce6a0dddb12de10ad98548ddaa57bbf\n",
            "  Stored in directory: /root/.cache/pip/wheels/31/48/c8/ca3345e8582a078de94243996e148377ef66fdb845557bae0b\n",
            "Successfully built imgaug\n",
            "Installing collected packages: imgaug\n",
            "  Found existing installation: imgaug 0.2.9\n",
            "    Uninstalling imgaug-0.2.9:\n",
            "      Successfully uninstalled imgaug-0.2.9\n",
            "Successfully installed imgaug-0.2.5\n",
            "Collecting EasyDict==1.7\n",
            "  Downloading https://files.pythonhosted.org/packages/df/e0/021f827dd5c11ac32c89f4b6bd0e3eddfd62d544112c298bf0b13e6b0def/easydict-1.7.tar.gz\n",
            "Collecting opencv-python==3.4.1.15\n",
            "\u001b[?25l  Downloading https://files.pythonhosted.org/packages/7c/78/bc95e29057e80d1da71912426113e85f20752b1031193f51750322354937/opencv_python-3.4.1.15-cp36-cp36m-manylinux1_x86_64.whl (24.9MB)\n",
            "\u001b[K     |████████████████████████████████| 24.9MB 129kB/s \n",
            "\u001b[?25hCollecting shapely==1.6.4\n",
            "\u001b[?25l  Downloading https://files.pythonhosted.org/packages/bd/f2/9f5f3cb42ce722aef3341cbbe7ed54aed6e198c75b5f08fcc1265eb3499d/Shapely-1.6.4-cp36-cp36m-manylinux1_x86_64.whl (1.5MB)\n",
            "\u001b[K     |████████████████████████████████| 1.5MB 48.4MB/s \n",
            "\u001b[?25hRequirement already satisfied: Cython in /usr/local/lib/python3.6/dist-packages (from -r requirements.txt (line 4)) (0.29.21)\n",
            "Requirement already satisfied: scipy in /usr/local/lib/python3.6/dist-packages (from -r requirements.txt (line 5)) (1.4.1)\n",
            "Requirement already satisfied: pandas in /usr/local/lib/python3.6/dist-packages (from -r requirements.txt (line 6)) (1.1.4)\n",
            "Requirement already satisfied: pyyaml in /usr/local/lib/python3.6/dist-packages (from -r requirements.txt (line 7)) (3.13)\n",
            "Collecting json_tricks\n",
            "  Downloading https://files.pythonhosted.org/packages/1c/1f/e24e124f286550c83992e2ee7f6de7feda20d558f6c5a546ddde9116e4e5/json_tricks-3.15.3-py2.py3-none-any.whl\n",
            "Requirement already satisfied: scikit-image in /usr/local/lib/python3.6/dist-packages (from -r requirements.txt (line 9)) (0.16.2)\n",
            "Collecting yacs>=0.1.5\n",
            "  Downloading https://files.pythonhosted.org/packages/38/4f/fe9a4d472aa867878ce3bb7efb16654c5d63672b86dc0e6e953a67018433/yacs-0.1.8-py3-none-any.whl\n",
            "Collecting tensorboardX==1.6\n",
            "\u001b[?25l  Downloading https://files.pythonhosted.org/packages/5c/76/89dd44458eb976347e5a6e75eb79fecf8facd46c1ce259bad54e0044ea35/tensorboardX-1.6-py2.py3-none-any.whl (129kB)\n",
            "\u001b[K     |████████████████████████████████| 133kB 55.8MB/s \n",
            "\u001b[?25hRequirement already satisfied: numpy>=1.11.3 in /usr/local/lib/python3.6/dist-packages (from opencv-python==3.4.1.15->-r requirements.txt (line 2)) (1.18.5)\n",
            "Requirement already satisfied: pytz>=2017.2 in /usr/local/lib/python3.6/dist-packages (from pandas->-r requirements.txt (line 6)) (2018.9)\n",
            "Requirement already satisfied: python-dateutil>=2.7.3 in /usr/local/lib/python3.6/dist-packages (from pandas->-r requirements.txt (line 6)) (2.8.1)\n",
            "Requirement already satisfied: matplotlib!=3.0.0,>=2.0.0 in /usr/local/lib/python3.6/dist-packages (from scikit-image->-r requirements.txt (line 9)) (3.2.2)\n",
            "Requirement already satisfied: pillow>=4.3.0 in /usr/local/lib/python3.6/dist-packages (from scikit-image->-r requirements.txt (line 9)) (7.0.0)\n",
            "Requirement already satisfied: imageio>=2.3.0 in /usr/local/lib/python3.6/dist-packages (from scikit-image->-r requirements.txt (line 9)) (2.4.1)\n",
            "Requirement already satisfied: PyWavelets>=0.4.0 in /usr/local/lib/python3.6/dist-packages (from scikit-image->-r requirements.txt (line 9)) (1.1.1)\n",
            "Requirement already satisfied: networkx>=2.0 in /usr/local/lib/python3.6/dist-packages (from scikit-image->-r requirements.txt (line 9)) (2.5)\n",
            "Requirement already satisfied: protobuf>=3.2.0 in /usr/local/lib/python3.6/dist-packages (from tensorboardX==1.6->-r requirements.txt (line 11)) (3.12.4)\n",
            "Requirement already satisfied: six in /usr/local/lib/python3.6/dist-packages (from tensorboardX==1.6->-r requirements.txt (line 11)) (1.15.0)\n",
            "Requirement already satisfied: cycler>=0.10 in /usr/local/lib/python3.6/dist-packages (from matplotlib!=3.0.0,>=2.0.0->scikit-image->-r requirements.txt (line 9)) (0.10.0)\n",
            "Requirement already satisfied: pyparsing!=2.0.4,!=2.1.2,!=2.1.6,>=2.0.1 in /usr/local/lib/python3.6/dist-packages (from matplotlib!=3.0.0,>=2.0.0->scikit-image->-r requirements.txt (line 9)) (2.4.7)\n",
            "Requirement already satisfied: kiwisolver>=1.0.1 in /usr/local/lib/python3.6/dist-packages (from matplotlib!=3.0.0,>=2.0.0->scikit-image->-r requirements.txt (line 9)) (1.3.1)\n",
            "Requirement already satisfied: decorator>=4.3.0 in /usr/local/lib/python3.6/dist-packages (from networkx>=2.0->scikit-image->-r requirements.txt (line 9)) (4.4.2)\n",
            "Requirement already satisfied: setuptools in /usr/local/lib/python3.6/dist-packages (from protobuf>=3.2.0->tensorboardX==1.6->-r requirements.txt (line 11)) (50.3.2)\n",
            "Building wheels for collected packages: EasyDict\n",
            "  Building wheel for EasyDict (setup.py) ... \u001b[?25l\u001b[?25hdone\n",
            "  Created wheel for EasyDict: filename=easydict-1.7-cp36-none-any.whl size=6113 sha256=10bffb094f6620a50405c680ad49472f67ababd6510de14fe442a6c86b5ed78a\n",
            "  Stored in directory: /root/.cache/pip/wheels/58/40/dd/87bc05b3d56641ccb8f099babf6ff5faed5db5c03c5d837450\n",
            "Successfully built EasyDict\n",
            "Installing collected packages: EasyDict, opencv-python, shapely, json-tricks, yacs, tensorboardX\n",
            "  Found existing installation: easydict 1.9\n",
            "    Uninstalling easydict-1.9:\n",
            "      Successfully uninstalled easydict-1.9\n",
            "  Found existing installation: opencv-python 4.1.2.30\n",
            "    Uninstalling opencv-python-4.1.2.30:\n",
            "      Successfully uninstalled opencv-python-4.1.2.30\n",
            "  Found existing installation: Shapely 1.7.1\n",
            "    Uninstalling Shapely-1.7.1:\n",
            "      Successfully uninstalled Shapely-1.7.1\n",
            "Successfully installed EasyDict-1.7 json-tricks-3.15.3 opencv-python-3.4.1.15 shapely-1.6.4 tensorboardX-1.6 yacs-0.1.8\n",
            "/content/drive/My Drive/研究室/Personal/library/deep-high-resolution-net.pytorch/lib\n",
            "cd nms; python setup_linux.py build_ext --inplace; rm -rf build; cd ../../\n",
            "running build_ext\n",
            "skipping 'cpu_nms.c' Cython extension (up-to-date)\n",
            "skipping 'gpu_nms.cpp' Cython extension (up-to-date)\n"
          ],
          "name": "stdout"
        }
      ]
    },
    {
      "cell_type": "code",
      "metadata": {
        "id": "lmq0eI075jrS",
        "outputId": "2ec578ba-b62e-4783-b2a0-5a258abb6748",
        "colab": {
          "base_uri": "https://localhost:8080/"
        }
      },
      "source": [
        "%cd  ../demo"
      ],
      "execution_count": 5,
      "outputs": [
        {
          "output_type": "stream",
          "text": [
            "/content/drive/My Drive/研究室/Personal/library/deep-high-resolution-net.pytorch/demo\n"
          ],
          "name": "stdout"
        }
      ]
    },
    {
      "cell_type": "code",
      "metadata": {
        "id": "GJtIHbqj2Dea",
        "outputId": "3fb38f90-0e3a-402b-db06-cfa038001186",
        "colab": {
          "base_uri": "https://localhost:8080/"
        }
      },
      "source": [
        "!sudo python inference.py --cfg inference-config.yaml \\\n",
        "    --videoFile \"/content/drive/My Drive/datasets/C0003.MP4\" \\\n",
        "    --outputDir \"/content/drive/My Drive/研究室/Personal/Assets/Assets_Output/HRNet/\" \\\n",
        "    TEST.MODEL_FILE \"/content/drive/My Drive/研究室/Personal/Assets/models/Pytorch/models/pose_coco/pose_hrnet_w32_256x192.pth\" "
      ],
      "execution_count": 6,
      "outputs": [
        {
          "output_type": "stream",
          "text": [
            "Downloading: \"https://download.pytorch.org/models/fasterrcnn_resnet50_fpn_coco-258fb6c6.pth\" to /root/.cache/torch/hub/checkpoints/fasterrcnn_resnet50_fpn_coco-258fb6c6.pth\n",
            "100% 160M/160M [00:00<00:00, 268MB/s]\n",
            "=> loading model from /content/drive/My Drive/研究室/Personal/Assets/models/Pytorch/models/pose_coco/pose_hrnet_w32_256x192.pth\n",
            "\u001b[0;35m[mov,mp4,m4a,3gp,3g2,mj2 @ 0x7f6c8e40] \u001b[0m\u001b[1;31mDrop frame is only allowed with 30000/1001 or 60000/1001 FPS\n",
            "\u001b[0mOpenCV: FFMPEG: tag 0x5634504d/'MP4V' is not supported with codec id 12 and format 'mp4 / MP4 (MPEG-4 Part 14)'\n",
            "OpenCV: FFMPEG: fallback to use tag 0x7634706d/'mp4v'\n",
            "100% 200/200 [01:03<00:00,  3.16it/s]\n"
          ],
          "name": "stdout"
        }
      ]
    },
    {
      "cell_type": "markdown",
      "metadata": {
        "id": "82JxJhktdeTU"
      },
      "source": [
        "#ここからは関係ない"
      ]
    },
    {
      "cell_type": "code",
      "metadata": {
        "id": "XUmF0exG2KX1",
        "outputId": "5d2104cd-9af7-4acb-8a76-f7b1fb455ca8",
        "colab": {
          "base_uri": "https://localhost:8080/",
          "height": 65
        }
      },
      "source": [
        "!pwd"
      ],
      "execution_count": null,
      "outputs": [
        {
          "output_type": "stream",
          "text": [
            "/content/drive/My Drive/研究室/Personal/library/deep-high-resolution-net.pytorch/demo\n"
          ],
          "name": "stdout"
        }
      ]
    },
    {
      "cell_type": "code",
      "metadata": {
        "id": "gM82wtqHUqmq"
      },
      "source": [
        " coords_color=[(255,255,0),(255,255,0),(255,255,0),(255,255,0),(255,255,0),(0,255,0),(127,127,127),(255,0,0),(255,127,127),(255,0,0),(0,255,0),(127,127,127),(255,0,0),(255,127,127),(255,0,0)]"
      ],
      "execution_count": null,
      "outputs": []
    },
    {
      "cell_type": "code",
      "metadata": {
        "id": "fSANZF3U2cvw",
        "outputId": "9fe0b26c-ea6f-4b0d-fc70-e4f0055b18c5",
        "colab": {
          "base_uri": "https://localhost:8080/",
          "height": 34
        }
      },
      "source": [
        "coords_color[1]"
      ],
      "execution_count": null,
      "outputs": [
        {
          "output_type": "execute_result",
          "data": {
            "text/plain": [
              "(255, 255, 0)"
            ]
          },
          "metadata": {
            "tags": []
          },
          "execution_count": 29
        }
      ]
    }
  ]
}